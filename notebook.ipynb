{
 "cells": [
  {
   "cell_type": "code",
   "execution_count": 6,
   "metadata": {},
   "outputs": [
    {
     "name": "stdout",
     "output_type": "stream",
     "text": [
      "Stock: 2x5 @ (0, 0)\n"
     ]
    }
   ],
   "source": [
    "from stock import Stock\n",
    "\n",
    "print(Stock(2, 5))"
   ]
  },
  {
   "cell_type": "code",
   "execution_count": 12,
   "metadata": {},
   "outputs": [
    {
     "name": "stdout",
     "output_type": "stream",
     "text": [
      "Stock: 5x4 @ (4, 5)\n",
      "Stock: 9x2 @ (9, 7)\n",
      "Stock: 2x1 @ (10, 9)\n",
      "Stock: 5x5 @ (8, 2)\n"
     ]
    },
    {
     "data": {
      "image/png": "[encoded data removed]",
      "text/plain": [
       "<Figure size 640x480 with 1 Axes>"
      ]
     },
     "metadata": {},
     "output_type": "display_data"
    }
   ],
   "source": [
    "import matplotlib.pyplot as plt\n",
    "import numpy as np\n",
    "\n",
    "# draw the rectangle in a canvas\n",
    "def draw_rectangle(ax, x, y, width, height):\n",
    "    ax.add_patch(plt.Rectangle((x, y), width, height, fill=False, lw=2))\n",
    "\n",
    "# draw the stock in a canvas\n",
    "def draw_stock(ax, stock):\n",
    "    draw_rectangle(ax, stock.x, stock.y, stock.width, stock.height)\n",
    "\n",
    "\n",
    "random = np.random.RandomState(409)\n",
    "stocks = [Stock(*random.randint(10, size=4)+1) for i in range(4)]\n",
    "\n",
    "fig, ax = plt.subplots()\n",
    "for stock in stocks:\n",
    "    print(stock)\n",
    "    draw_stock(ax, stock)\n",
    "\n",
    "ax.set_xlim(0, 20)\n",
    "ax.set_ylim(0, 20)\n",
    "# ax.axis('equal')\n",
    "# hide the axis ticks just by setting the ticks to an empty list ax.set_xticks([])\n",
    "ax.set_xticks([stock.x for stock in stocks] + [stock.x + stock.width for stock in stocks])\n",
    "ax.set_yticks([stock.y for stock in stocks] + [stock.y + stock.height for stock in stocks])\n",
    "plt.show()\n"
   ]
  },
  {
   "cell_type": "code",
   "execution_count": null,
   "metadata": {},
   "outputs": [],
   "source": []
  }
 ],
 "metadata": {
  "kernelspec": {
   "display_name": "Python 3",
   "language": "python",
   "name": "python3"
  },
  "language_info": {
   "codemirror_mode": {
    "name": "ipython",
    "version": 3
   },
   "file_extension": ".py",
   "mimetype": "text/x-python",
   "name": "python",
   "nbconvert_exporter": "python",
   "pygments_lexer": "ipython3",
   "version": "3.11.4"
  }
 },
 "nbformat": 4,
 "nbformat_minor": 2
}
